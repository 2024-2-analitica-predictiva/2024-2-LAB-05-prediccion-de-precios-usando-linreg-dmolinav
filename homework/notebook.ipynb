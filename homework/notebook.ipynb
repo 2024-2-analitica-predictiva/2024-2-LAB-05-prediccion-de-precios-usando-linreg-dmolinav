{
 "cells": [
  {
   "cell_type": "code",
   "execution_count": 73,
   "metadata": {},
   "outputs": [],
   "source": [
    "#cargar datos\n",
    "import pandas as pd\n",
    "\n",
    "datatest = pd.read_csv('C:\\\\Users\\\\danie\\\\Documents\\\\Analítica Predictiva\\\\2024-2-LAB-05-prediccion-de-precios-usando-linreg-dmolinav\\\\files\\\\input\\\\test_data.csv.zip')  \n",
    "datatrain = pd.read_csv('C:\\\\Users\\\\danie\\\\Documents\\\\Analítica Predictiva\\\\2024-2-LAB-05-prediccion-de-precios-usando-linreg-dmolinav\\\\files\\\\input\\\\train_data.csv.zip')\n",
    "\n",
    "#crear columna Age\n",
    "datatrain['Age'] = 2021 - datatrain['Year']\n",
    "datatest['Age'] = 2021 - datatest['Year']\n",
    "\n",
    "#remover columna\n",
    "datatrain.drop(['Year', 'Car_Name'], axis=1, inplace=True)\n",
    "datatest.drop(['Year', 'Car_Name'], axis=1, inplace=True)\n",
    "\n"
   ]
  },
  {
   "cell_type": "code",
   "execution_count": 74,
   "metadata": {},
   "outputs": [],
   "source": [
    "#dividir dataset\n",
    "x_train = datatrain.drop(columns=\"Present_Price\")\n",
    "y_train = datatrain[\"Present_Price\"]\n",
    "\n",
    "x_test = datatest.drop(columns=\"Present_Price\")\n",
    "y_test = datatest[\"Present_Price\"]"
   ]
  },
  {
   "cell_type": "code",
   "execution_count": 75,
   "metadata": {},
   "outputs": [],
   "source": [
    "#Crear pipeline y ajustar modelo\n",
    "from sklearn.preprocessing import OneHotEncoder\n",
    "from sklearn.preprocessing import MinMaxScaler\n",
    "from sklearn.feature_selection import SelectKBest\n",
    "from sklearn.feature_selection import f_regression\n",
    "from sklearn.linear_model import LinearRegression\n",
    "from sklearn.pipeline import Pipeline\n",
    "\n",
    "oneHotEncoder = OneHotEncoder()\n",
    "scaler = MinMaxScaler()\n",
    "\n",
    "from sklearn.compose import ColumnTransformer\n",
    "\n",
    "categorical_columns = ['Fuel_Type', 'Selling_type', 'Transmission']\n",
    "numerical_columns = ['Selling_Price', 'Driven_kms', 'Owner', 'Age']\n",
    "\n",
    "preprocessor = ColumnTransformer(\n",
    "    transformers=[\n",
    "        (\"cat\", OneHotEncoder(), categorical_columns),\n",
    "        (\"scaler\", MinMaxScaler(), numerical_columns)\n",
    "    ],\n",
    ")\n",
    "\n",
    "\n",
    "selectKBest = SelectKBest(f_regression)\n",
    "\n",
    "lr = LinearRegression()\n",
    "\n",
    "estimators = [\n",
    "    (\"preprocessor\", preprocessor), \n",
    "    (\"kSelect\", selectKBest),\n",
    "    (\"lr\", lr),  \n",
    "]\n",
    "\n",
    "pipeline = Pipeline(\n",
    "    steps=estimators,\n",
    "    verbose=False,\n",
    ")"
   ]
  },
  {
   "cell_type": "code",
   "execution_count": 76,
   "metadata": {},
   "outputs": [],
   "source": [
    "#Validacion cruzada\n",
    "from sklearn.model_selection import GridSearchCV\n",
    "param_grid = {\n",
    "    \"kSelect__k\": range(1,15),\n",
    "    \"lr__fit_intercept\": [True, False],\n",
    "    \"lr__positive\": [True, False]\n",
    "}\n",
    "\n",
    "gridSearchCV=GridSearchCV(\n",
    "    pipeline,\n",
    "    param_grid,\n",
    "    cv=10,\n",
    "    scoring=\"neg_mean_absolute_error\",\n",
    "    n_jobs=-1\n",
    ")\n",
    "\n",
    "gridSearchCV.fit(x_train, y_train)\n",
    "\n",
    "model=gridSearchCV"
   ]
  },
  {
   "cell_type": "code",
   "execution_count": 77,
   "metadata": {},
   "outputs": [],
   "source": [
    "#guardar modelo\n",
    "import os\n",
    "import gzip\n",
    "import pickle\n",
    "\n",
    "model_filename = '../files/models/model.pkl.gz'\n",
    "os.makedirs(os.path.dirname(model_filename), exist_ok=True) \n",
    "\n",
    "with gzip.open(model_filename, 'wb') as f:\n",
    "    pickle.dump(model, f)"
   ]
  },
  {
   "cell_type": "code",
   "execution_count": 78,
   "metadata": {},
   "outputs": [],
   "source": [
    "#metricas\n",
    "from sklearn.metrics import mean_squared_error, r2_score, median_absolute_error\n",
    "import json\n",
    "\n",
    "def calculate_metrics(model, X, y, dataset_name):\n",
    "    y_pred = model.predict(X)\n",
    "    \n",
    "    r2_train = float(r2_score(y, y_pred))\n",
    "    mse_train = float(mean_squared_error(y, y_pred))\n",
    "    mad_train = float(median_absolute_error(y, y_pred))\n",
    "    \n",
    "    metrics = {\n",
    "        'type': 'metrics',\n",
    "        'dataset': dataset_name,\n",
    "        'r2': r2_train,\n",
    "        'mse': mse_train,\n",
    "        'mad': mad_train,\n",
    "    }\n",
    "    return metrics\n",
    "\n",
    "# Calcular métricas para el conjunto de entrenamiento y prueba\n",
    "train_metrics = calculate_metrics(model, x_train, y_train, 'train')\n",
    "test_metrics = calculate_metrics(model, x_test, y_test, 'test')\n",
    "\n",
    "metrics = [train_metrics, test_metrics]"
   ]
  },
  {
   "cell_type": "code",
   "execution_count": 79,
   "metadata": {},
   "outputs": [],
   "source": [
    "import json\n",
    "import os\n",
    "\n",
    "\n",
    "os.makedirs('../files/output', exist_ok=True)\n",
    "\n",
    "def save_metrics(metrics, filename='../files/output/metrics.json'):\n",
    "    with open(filename, 'a') as f:\n",
    "        for metric in metrics:\n",
    "            json.dump(metric, f)\n",
    "            f.write('\\n')\n",
    "\n",
    "# Guardar las métricas calculadas\n",
    "save_metrics(metrics)\n"
   ]
  }
 ],
 "metadata": {
  "kernelspec": {
   "display_name": ".venv",
   "language": "python",
   "name": "python3"
  },
  "language_info": {
   "codemirror_mode": {
    "name": "ipython",
    "version": 3
   },
   "file_extension": ".py",
   "mimetype": "text/x-python",
   "name": "python",
   "nbconvert_exporter": "python",
   "pygments_lexer": "ipython3",
   "version": "3.10.11"
  }
 },
 "nbformat": 4,
 "nbformat_minor": 2
}
